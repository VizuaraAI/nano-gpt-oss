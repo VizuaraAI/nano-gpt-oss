{
 "cells": [
  {
   "cell_type": "code",
   "execution_count": null,
   "id": "4bcc4e04",
   "metadata": {},
   "outputs": [],
   "source": [
    "!pip install -q datasets tiktoken datasets tqdm wandb ipywidgets"
   ]
  },
  {
   "cell_type": "code",
   "execution_count": null,
   "id": "49c8740a",
   "metadata": {},
   "outputs": [],
   "source": [
    "from training.data_loader import train_loader"
   ]
  },
  {
   "cell_type": "code",
   "execution_count": null,
   "id": "af1a99dc",
   "metadata": {},
   "outputs": [],
   "source": [
    "from architecture.gptoss import Transformer,ModelConfig"
   ]
  },
  {
   "cell_type": "code",
   "execution_count": null,
   "id": "b127ca98",
   "metadata": {},
   "outputs": [],
   "source": [
    "device= \"cuda:0\"\n",
    "context=\"aman is good boy\"\n",
    "model= Transformer(ModelConfig(\n",
    "    num_attention_heads=8\n",
    "    ,num_key_value_heads=4,\n",
    "    num_experts=4,\n",
    "    experts_per_token=1,\n",
    "    num_hidden_layers=12,\n",
    "    hidden_size =1024,\n",
    "    intermediate_size = 1024\n",
    "    \n",
    "    ),device)\n",
    "sum([p.numel() for p in model.parameters()])/1000000000"
   ]
  },
  {
   "cell_type": "code",
   "execution_count": null,
   "id": "d98784fd",
   "metadata": {},
   "outputs": [],
   "source": [
    "from training.trainer import trainer\n",
    "tl,vl,ts= trainer(model,train_loader,val_loader,device)"
   ]
  },
  {
   "cell_type": "code",
   "execution_count": null,
   "id": "96d9e55a",
   "metadata": {},
   "outputs": [],
   "source": [
    "import infrance,importlib\n",
    "importlib.reload(infrance)\n",
    "from infrance import text_to_token_ids,token_ids_to_text,get_tokenizer\n",
    "\n",
    "tokenn= get_tokenizer()"
   ]
  },
  {
   "cell_type": "code",
   "execution_count": null,
   "id": "2e95599f",
   "metadata": {},
   "outputs": [],
   "source": [
    "idss=text_to_token_ids(\"aman babu is good\",tokenn)"
   ]
  },
  {
   "cell_type": "code",
   "execution_count": null,
   "id": "334c2f8a",
   "metadata": {},
   "outputs": [],
   "source": [
    "token_ids_to_text(idss,tokenn)"
   ]
  },
  {
   "cell_type": "code",
   "execution_count": null,
   "id": "c41e2a7b",
   "metadata": {},
   "outputs": [],
   "source": [
    "import torch"
   ]
  },
  {
   "cell_type": "code",
   "execution_count": null,
   "id": "fbda6ac4",
   "metadata": {},
   "outputs": [],
   "source": [
    "for _ in range(1):\n",
    "        idx_cond = idss[-1:]\n",
    "        with torch.inference_mode():\n",
    "          \n",
    "            print(idx_cond)\n",
    "        "
   ]
  },
  {
   "cell_type": "code",
   "execution_count": null,
   "id": "8042ff6b",
   "metadata": {},
   "outputs": [],
   "source": []
  },
  {
   "cell_type": "code",
   "execution_count": null,
   "id": "31a112dc",
   "metadata": {},
   "outputs": [],
   "source": []
  }
 ],
 "metadata": {
  "kernelspec": {
   "display_name": "venv",
   "language": "python",
   "name": "python3"
  },
  "language_info": {
   "codemirror_mode": {
    "name": "ipython",
    "version": 3
   },
   "file_extension": ".py",
   "mimetype": "text/x-python",
   "name": "python",
   "nbconvert_exporter": "python",
   "pygments_lexer": "ipython3",
   "version": "3.11.12"
  }
 },
 "nbformat": 4,
 "nbformat_minor": 5
}
